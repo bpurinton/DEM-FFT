# Fourier Analysis of a DEM
